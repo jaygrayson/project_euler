{
 "cells": [
  {
   "cell_type": "markdown",
   "metadata": {},
   "source": [
    "# Largest palindrome product\n",
    "\n",
    "## Problem 4\n",
    "\n",
    "A palindromic number reads the same both ways. The largest palindrome made from the product of two 2-digit numbers is 9009 = 91 × 99.\n",
    "\n",
    "Find the largest palindrome made from the product of two 3-digit numbers."
   ]
  },
  {
   "cell_type": "markdown",
   "metadata": {},
   "source": [
    "## Approach\n",
    "\n",
    "1. Create a tester to check if number is a palindrome.\n",
    "1. Create list of all multiples of $(100,...,999)\\times(100,...,999)$\n",
    "1. Order the list from greatest to least, and start checking for palindromes."
   ]
  },
  {
   "cell_type": "code",
   "execution_count": 1,
   "metadata": {
    "collapsed": true
   },
   "outputs": [],
   "source": [
    "import time\n",
    "import numpy as np"
   ]
  },
  {
   "cell_type": "code",
   "execution_count": 2,
   "metadata": {
    "collapsed": false
   },
   "outputs": [],
   "source": [
    "def ispdrm(x):\n",
    "    \"\"\"return True if number is a palindrome\"\"\"\n",
    "    xsl = list(str(x)) # make list of numbers as strings\n",
    "    pdrm = True\n",
    "    for i in range(len(xsl)/2): # loop through half the length of the number\n",
    "        pdrm = xsl[i] == xsl[-i-1] # remains true if opposite indices match\n",
    "        if not pdrm: # exit if false\n",
    "            break\n",
    "    return pdrm"
   ]
  },
  {
   "cell_type": "code",
   "execution_count": 3,
   "metadata": {
    "collapsed": true
   },
   "outputs": [],
   "source": [
    "def allmult(n1, n2):\n",
    "    \"\"\"return list of all multiples of integers (n1..n2)*(n1..n2)\n",
    "       ordered from greatest to least\"\"\"\n",
    "    a = np.array(range(n1, n2+1))\n",
    "    m = np.outer(a, a) # outer product to get all possible multiples\n",
    "    m = np.sort(m, axis=None)\n",
    "    m = np.unique(m)\n",
    "    return list(m[::-1])"
   ]
  },
  {
   "cell_type": "code",
   "execution_count": 4,
   "metadata": {
    "collapsed": false
   },
   "outputs": [
    {
     "name": "stdout",
     "output_type": "stream",
     "text": [
      "\n",
      "result: 906609\n",
      "seconds: 0.08265209198\n"
     ]
    }
   ],
   "source": [
    "t1 = time.time() # tic\n",
    "\n",
    "a = allmult(100,999)\n",
    "for x in a:\n",
    "    if ispdrm(x):\n",
    "        break\n",
    "\n",
    "t2 = time.time() # toc\n",
    "print ''\n",
    "print 'result:', x\n",
    "print 'seconds:', t2-t1"
   ]
  }
 ],
 "metadata": {
  "kernelspec": {
   "display_name": "Python 2",
   "language": "python",
   "name": "python2"
  },
  "language_info": {
   "codemirror_mode": {
    "name": "ipython",
    "version": 2
   },
   "file_extension": ".py",
   "mimetype": "text/x-python",
   "name": "python",
   "nbconvert_exporter": "python",
   "pygments_lexer": "ipython2",
   "version": "2.7.6"
  }
 },
 "nbformat": 4,
 "nbformat_minor": 2
}
