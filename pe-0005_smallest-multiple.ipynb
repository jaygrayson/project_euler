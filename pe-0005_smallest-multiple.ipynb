{
 "cells": [
  {
   "cell_type": "markdown",
   "metadata": {},
   "source": [
    "# Smallest multiple\n",
    "\n",
    "## Problem 5\n",
    "\n",
    "2520 is the smallest number that can be divided by each of the numbers from 1 to 10 without any remainder.\n",
    "\n",
    "What is the smallest positive number that is evenly divisible by all of the numbers from 1 to 20?"
   ]
  },
  {
   "cell_type": "markdown",
   "metadata": {},
   "source": [
    "## Approach\n",
    "\n",
    "Will do this by brute force, but can shorten run time by testing order.\n",
    "\n",
    "1. Starting with 1, move up and test all positive integers for no remainder after division.\n",
    "1. Largest divisor is 20, so that will be the most selective when testing numbers. Test division by 20 then move on if not satisfied.\n",
    "1. If divisible by 20, then test 19, then 18, etc."
   ]
  },
  {
   "cell_type": "code",
   "execution_count": 1,
   "metadata": {
    "collapsed": true
   },
   "outputs": [],
   "source": [
    "import time\n",
    "import numpy as np"
   ]
  },
  {
   "cell_type": "code",
   "execution_count": 2,
   "metadata": {
    "collapsed": false
   },
   "outputs": [],
   "source": [
    "def isdivisible(x,n):\n",
    "    \"\"\"return True if x is divisible by n, n-1, n-2, ..., 2\"\"\"\n",
    "    divis = True\n",
    "    for m in range(n,1,-1):\n",
    "        divis = x % m == 0\n",
    "        if not divis:\n",
    "            break\n",
    "    return divis"
   ]
  },
  {
   "cell_type": "code",
   "execution_count": 3,
   "metadata": {
    "collapsed": false
   },
   "outputs": [
    {
     "name": "stdout",
     "output_type": "stream",
     "text": [
      "\n",
      "result: 232792560\n",
      "seconds: 143.967741966\n"
     ]
    }
   ],
   "source": [
    "t1 = time.time() # tic\n",
    "\n",
    "n = 20\n",
    "x = 1\n",
    "found = False\n",
    "while not found:\n",
    "    found = isdivisible(x,n)\n",
    "    if found:\n",
    "        break\n",
    "    x = x+1\n",
    "\n",
    "t2 = time.time() # toc\n",
    "print ''\n",
    "print 'result:', x\n",
    "print 'seconds:', t2-t1"
   ]
  },
  {
   "cell_type": "markdown",
   "metadata": {},
   "source": [
    "Correct result, but way too slow. Since the result is large, takes a long time to check all the numbers if divisible by the whole set of (20,...). \n",
    "\n",
    "## Speed up\n",
    "\n",
    "The smallest possible multiple will be the product, $p$, of all the prime numbers within (20,..,1), and the result will be some multiple of that product.\n",
    "1. Calculate $p$, the product of prime numbers included in (20,...,1).\n",
    "1. Instead of testing $x=1,2,...$, only test $x = p\\cdot(1,2,..)$."
   ]
  },
  {
   "cell_type": "code",
   "execution_count": 4,
   "metadata": {
    "collapsed": true
   },
   "outputs": [],
   "source": [
    "def isprime(x):\n",
    "    \"\"\"return True if number is prime\"\"\"\n",
    "    x = int(x)\n",
    "    i = 2\n",
    "    ans = True\n",
    "    while i < x:\n",
    "        if x % i == 0:\n",
    "            ans = False\n",
    "            break\n",
    "        i = i+1\n",
    "    return ans"
   ]
  },
  {
   "cell_type": "code",
   "execution_count": 5,
   "metadata": {
    "collapsed": false
   },
   "outputs": [],
   "source": [
    "def primeprod(n):\n",
    "    \"\"\"return product of prime numbers in (i,n]\"\"\"\n",
    "    plist = []\n",
    "    for x in range(1,n+1):\n",
    "        if isprime(x):\n",
    "            plist.append(x)\n",
    "    return np.prod(np.array(plist))"
   ]
  },
  {
   "cell_type": "code",
   "execution_count": 6,
   "metadata": {
    "collapsed": false
   },
   "outputs": [
    {
     "name": "stdout",
     "output_type": "stream",
     "text": [
      "\n",
      "result: 232792560\n",
      "seconds: 0.000565052032471\n"
     ]
    }
   ],
   "source": [
    "t1 = time.time() # tic\n",
    "\n",
    "n = 20\n",
    "p = primeprod(n)\n",
    "x = p\n",
    "found = False\n",
    "while not found:\n",
    "    found = isdivisible(x,n)\n",
    "    if found:\n",
    "        break\n",
    "    x = x+p\n",
    "\n",
    "t2 = time.time() # toc\n",
    "print ''\n",
    "print 'result:', x\n",
    "print 'seconds:', t2-t1"
   ]
  }
 ],
 "metadata": {
  "kernelspec": {
   "display_name": "Python 2",
   "language": "python",
   "name": "python2"
  },
  "language_info": {
   "codemirror_mode": {
    "name": "ipython",
    "version": 2
   },
   "file_extension": ".py",
   "mimetype": "text/x-python",
   "name": "python",
   "nbconvert_exporter": "python",
   "pygments_lexer": "ipython2",
   "version": "2.7.6"
  }
 },
 "nbformat": 4,
 "nbformat_minor": 2
}
