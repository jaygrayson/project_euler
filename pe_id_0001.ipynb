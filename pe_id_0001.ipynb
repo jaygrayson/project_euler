{
 "cells": [
  {
   "cell_type": "markdown",
   "metadata": {},
   "source": [
    "# Multiples of 3 and 5\n",
    "\n",
    "## Problem 1\n",
    "\n",
    "If we list all the natural numbers below 10 that are multiples of 3 or 5, we get 3, 5, 6 and 9. The sum of these multiples is 23.\n",
    "\n",
    "Find the sum of all the multiples of 3 or 5 below 1000."
   ]
  },
  {
   "cell_type": "markdown",
   "metadata": {},
   "source": [
    "## Approach\n",
    "\n",
    "Natural numbers: positive integers $1,2,3,...$\n",
    "\n",
    "1. Find the maximum multiple below 1000 for both 3 and 5, e.g. $3n<1000$\n",
    "1. Compute all the multiples from 1 up to that maximum multiple for each. \n",
    "1. Remove any duplicates from the two lists.\n",
    "1. Sum the remaining two lists. "
   ]
  },
  {
   "cell_type": "code",
   "execution_count": 30,
   "metadata": {
    "collapsed": true
   },
   "outputs": [],
   "source": [
    "import numpy as np\n",
    "import time\n",
    "import math"
   ]
  },
  {
   "cell_type": "code",
   "execution_count": 95,
   "metadata": {
    "collapsed": false
   },
   "outputs": [],
   "source": [
    "def maxmultarray(x,y):\n",
    "    \"\"\"find maximum multiple n satisfying x*n<y, return array from x*1 to x*n\"\"\"\n",
    "    n = math.floor((y-1)/x)\n",
    "    na = x*(np.arange(n)+1)\n",
    "    return na"
   ]
  },
  {
   "cell_type": "code",
   "execution_count": 99,
   "metadata": {
    "collapsed": false
   },
   "outputs": [],
   "source": [
    "def uniqsum(a1,a2):\n",
    "    \"\"\"get unique sum of entries in arrays a1 and a2\"\"\"\n",
    "    a = np.concatenate((a1,a2))\n",
    "    au = np.unique(a)\n",
    "    ausum = np.sum(au)\n",
    "    return ausum"
   ]
  },
  {
   "cell_type": "code",
   "execution_count": 102,
   "metadata": {
    "collapsed": false
   },
   "outputs": [
    {
     "name": "stdout",
     "output_type": "stream",
     "text": [
      "\n",
      "result: 233168.0\n",
      "seconds: 0.000347137451172\n"
     ]
    }
   ],
   "source": [
    "t1 = time.time() # tic\n",
    "\n",
    "y = 1000\n",
    "a1 = maxmultarray(3,y)\n",
    "a2 = maxmultarray(5,y)\n",
    "s = uniqsum(a1,a2)\n",
    "\n",
    "t2 = time.time() # toc\n",
    "print ''\n",
    "print 'result:', s\n",
    "print 'seconds:', t2-t1"
   ]
  }
 ],
 "metadata": {
  "kernelspec": {
   "display_name": "Python 2",
   "language": "python",
   "name": "python2"
  },
  "language_info": {
   "codemirror_mode": {
    "name": "ipython",
    "version": 2
   },
   "file_extension": ".py",
   "mimetype": "text/x-python",
   "name": "python",
   "nbconvert_exporter": "python",
   "pygments_lexer": "ipython2",
   "version": "2.7.6"
  }
 },
 "nbformat": 4,
 "nbformat_minor": 2
}
