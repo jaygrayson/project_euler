{
 "cells": [
  {
   "cell_type": "markdown",
   "metadata": {},
   "source": [
    "# Largest prime factor\n",
    "\n",
    "## Problem 3\n",
    "\n",
    "The prime factors of 13195 are 5, 7, 13 and 29.\n",
    "\n",
    "What is the largest prime factor of the number 600851475143 ?"
   ]
  },
  {
   "cell_type": "markdown",
   "metadata": {},
   "source": [
    "## Approach\n",
    "\n",
    "1. Create tester to see if number is prime\n",
    "2. Divide 600851475143 by 1, test if prime\n",
    "3. Divide by 2. If a whole number, test if prime\n",
    "4. Divide by 3, etc. until find a prime number"
   ]
  },
  {
   "cell_type": "code",
   "execution_count": 1,
   "metadata": {
    "collapsed": true
   },
   "outputs": [],
   "source": [
    "import time\n",
    "import math"
   ]
  },
  {
   "cell_type": "code",
   "execution_count": 2,
   "metadata": {
    "collapsed": false
   },
   "outputs": [],
   "source": [
    "def isprime(x):\n",
    "    \"\"\"return True if number is prime\"\"\"\n",
    "    x = int(x)\n",
    "    i = 2\n",
    "    ans = True\n",
    "    while i < x: # test divisibility by 2,3,...,x-1\n",
    "        if x % i == 0:\n",
    "            ans = False\n",
    "            break\n",
    "        i = i+1\n",
    "    return ans"
   ]
  },
  {
   "cell_type": "code",
   "execution_count": 3,
   "metadata": {
    "collapsed": false
   },
   "outputs": [
    {
     "name": "stdout",
     "output_type": "stream",
     "text": [
      "\n",
      "result: 6857\n",
      "seconds: 10.5660049915\n"
     ]
    }
   ],
   "source": [
    "t1 = time.time() # tic\n",
    "\n",
    "n = int(600851475143)\n",
    "i = 2\n",
    "while i < n:\n",
    "    if n % i == 0: # test if n/i is a factor\n",
    "        f = n / i\n",
    "        if isprime(f): # test if factor is prime\n",
    "            break\n",
    "    i = i+1\n",
    "\n",
    "t2 = time.time() # toc\n",
    "print ''\n",
    "print 'result:', f\n",
    "print 'seconds:', t2-t1"
   ]
  },
  {
   "cell_type": "markdown",
   "metadata": {},
   "source": [
    "## Speed up\n",
    "\n",
    "Actually only need to test primality by divisibility of a number from $2,3,...,\\sqrt{x}$. See how much faster that makes it."
   ]
  },
  {
   "cell_type": "code",
   "execution_count": 4,
   "metadata": {
    "collapsed": true
   },
   "outputs": [],
   "source": [
    "def isprime2(x):\n",
    "    \"\"\"return True if number is prime\"\"\"\n",
    "    x = int(x)\n",
    "    i = 2\n",
    "    ans = True\n",
    "    while i <= math.sqrt(x): # test divisibility by 2,3,...,sqrt(x)\n",
    "        if x % i == 0:\n",
    "            ans = False\n",
    "            break\n",
    "        i = i+1\n",
    "    return ans"
   ]
  },
  {
   "cell_type": "code",
   "execution_count": 5,
   "metadata": {
    "collapsed": false
   },
   "outputs": [
    {
     "name": "stdout",
     "output_type": "stream",
     "text": [
      "\n",
      "result: 6857\n",
      "seconds: 10.9153428078\n",
      "iteration: 87625999\n",
      "ntested: 11\n"
     ]
    }
   ],
   "source": [
    "t1 = time.time() # tic\n",
    "\n",
    "n = int(600851475143)\n",
    "i = 2\n",
    "\n",
    "ntested = 0\n",
    "while i < n:\n",
    "    if n % i == 0: # test if n/i is a factor\n",
    "        f = n / i\n",
    "        ntested = ntested + 1\n",
    "        if isprime2(f): # test if factor is prime\n",
    "            break\n",
    "    i = i+1\n",
    "\n",
    "t2 = time.time() # toc\n",
    "print ''\n",
    "print 'result:', f\n",
    "print 'seconds:', t2-t1\n",
    "print 'iteration:', i\n",
    "print 'ntested:', ntested"
   ]
  },
  {
   "cell_type": "markdown",
   "metadata": {},
   "source": [
    "So it doesn't make a difference here... I think because it is only testing 11 numbers for primality. The bottleneck is probably the huge number of iterations.\n",
    "\n",
    "Make it smarter: when it finds an divisor i (and f fails test for primality), can now use f as n. This is just removing the smallest factors from the number. "
   ]
  },
  {
   "cell_type": "code",
   "execution_count": 6,
   "metadata": {
    "collapsed": false
   },
   "outputs": [
    {
     "name": "stdout",
     "output_type": "stream",
     "text": [
      "\n",
      "result: 6857\n",
      "seconds: 0.00156784057617\n"
     ]
    }
   ],
   "source": [
    "t1 = time.time() # tic\n",
    "\n",
    "n = int(600851475143)\n",
    "i = 2\n",
    "while i < n:\n",
    "    if n % i == 0: # test if n/i is a factor\n",
    "        f = n / i\n",
    "        if isprime2(f): # test if factor is prime\n",
    "            break\n",
    "        else:\n",
    "            n = f # substitute after removing factor i\n",
    "            i = 1 # restart test divisors\n",
    "    i = i+1\n",
    "\n",
    "t2 = time.time() # toc\n",
    "print ''\n",
    "print 'result:', f\n",
    "print 'seconds:', t2-t1"
   ]
  },
  {
   "cell_type": "markdown",
   "metadata": {},
   "source": [
    "Much faster!"
   ]
  }
 ],
 "metadata": {
  "kernelspec": {
   "display_name": "Python 2",
   "language": "python",
   "name": "python2"
  },
  "language_info": {
   "codemirror_mode": {
    "name": "ipython",
    "version": 2
   },
   "file_extension": ".py",
   "mimetype": "text/x-python",
   "name": "python",
   "nbconvert_exporter": "python",
   "pygments_lexer": "ipython2",
   "version": "2.7.6"
  }
 },
 "nbformat": 4,
 "nbformat_minor": 2
}
