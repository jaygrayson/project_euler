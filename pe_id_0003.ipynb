{
 "cells": [
  {
   "cell_type": "markdown",
   "metadata": {},
   "source": [
    "# Largest prime factor\n",
    "\n",
    "## Problem 3\n",
    "\n",
    "The prime factors of 13195 are 5, 7, 13 and 29.\n",
    "\n",
    "What is the largest prime factor of the number 600851475143 ?"
   ]
  },
  {
   "cell_type": "markdown",
   "metadata": {},
   "source": [
    "## Approach\n",
    "\n",
    "1. Create tester to see if number is prime\n",
    "2. Divide 600851475143 by 1, test if prime\n",
    "3. Divide by 2. If a whole number, test if prime\n",
    "4. Divide by 3, etc. until find a prime number"
   ]
  },
  {
   "cell_type": "code",
   "execution_count": 1,
   "metadata": {
    "collapsed": true
   },
   "outputs": [],
   "source": [
    "import time"
   ]
  },
  {
   "cell_type": "code",
   "execution_count": 2,
   "metadata": {
    "collapsed": false
   },
   "outputs": [],
   "source": [
    "def isprime(x):\n",
    "    \"\"\"return True if number is prime\"\"\"\n",
    "    x = int(x)\n",
    "    i = 2\n",
    "    ans = True\n",
    "    while i < x:\n",
    "        if x % i == 0:\n",
    "            ans = False\n",
    "            break\n",
    "        i = i+1\n",
    "    return ans"
   ]
  },
  {
   "cell_type": "code",
   "execution_count": 3,
   "metadata": {
    "collapsed": false
   },
   "outputs": [
    {
     "name": "stdout",
     "output_type": "stream",
     "text": [
      "\n",
      "result: 6857\n",
      "seconds: 10.888422966\n"
     ]
    }
   ],
   "source": [
    "t1 = time.time() # tic\n",
    "\n",
    "n = int(600851475143)\n",
    "i = 1\n",
    "while i < n:\n",
    "    if n % i == 0: # test if n/i is a factor\n",
    "        f = n / i\n",
    "        if isprime(f): # test if factor is prime\n",
    "            break\n",
    "    i = i+1\n",
    "\n",
    "t2 = time.time() # toc\n",
    "print ''\n",
    "print 'result:', f\n",
    "print 'seconds:', t2-t1"
   ]
  }
 ],
 "metadata": {
  "kernelspec": {
   "display_name": "Python 2",
   "language": "python",
   "name": "python2"
  },
  "language_info": {
   "codemirror_mode": {
    "name": "ipython",
    "version": 2
   },
   "file_extension": ".py",
   "mimetype": "text/x-python",
   "name": "python",
   "nbconvert_exporter": "python",
   "pygments_lexer": "ipython2",
   "version": "2.7.6"
  }
 },
 "nbformat": 4,
 "nbformat_minor": 2
}
