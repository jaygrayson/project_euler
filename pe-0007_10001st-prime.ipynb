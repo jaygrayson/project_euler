{
 "cells": [
  {
   "cell_type": "markdown",
   "metadata": {},
   "source": [
    "# 10001st prime\n",
    "\n",
    "## Problem 7\n",
    "\n",
    "By listing the first six prime numbers: 2, 3, 5, 7, 11, and 13, we can see that the 6th prime is 13.\n",
    "\n",
    "What is the 10001st prime number?"
   ]
  },
  {
   "cell_type": "markdown",
   "metadata": {},
   "source": [
    "## Approach\n",
    "\n",
    "Use prime number tester and just move upwards from 2. In this approach it will just be a test of how fast the prime tester is. \n",
    "\n",
    "First start with the naive prime tester that brute force tests divisibility of $x$ by $2,3,...,\\sqrt{x}$."
   ]
  },
  {
   "cell_type": "code",
   "execution_count": 1,
   "metadata": {
    "collapsed": true
   },
   "outputs": [],
   "source": [
    "import time\n",
    "import math"
   ]
  },
  {
   "cell_type": "code",
   "execution_count": 2,
   "metadata": {
    "collapsed": false
   },
   "outputs": [],
   "source": [
    "def isprime(x):\n",
    "    \"\"\"return True if number is prime\"\"\"\n",
    "    x = int(x)\n",
    "    i = 2\n",
    "    ans = True\n",
    "    while i <= math.sqrt(x): # test divisibility by 2,3,...,sqrt(x)\n",
    "        if x % i == 0:\n",
    "            ans = False\n",
    "            break\n",
    "        i = i+1\n",
    "    return ans"
   ]
  },
  {
   "cell_type": "code",
   "execution_count": 3,
   "metadata": {
    "collapsed": true
   },
   "outputs": [],
   "source": [
    "def nthprime(n):\n",
    "    \"\"\"return nth prime number\"\"\"\n",
    "    x = 1\n",
    "    p = 0\n",
    "    while p < n:\n",
    "        x = x + 1\n",
    "        if isprime(x):\n",
    "            p = p + 1\n",
    "    return x"
   ]
  },
  {
   "cell_type": "code",
   "execution_count": 4,
   "metadata": {
    "collapsed": false
   },
   "outputs": [
    {
     "name": "stdout",
     "output_type": "stream",
     "text": [
      "\n",
      "result: 104743\n",
      "seconds: 0.498211860657\n"
     ]
    }
   ],
   "source": [
    "t1 = time.time() # tic\n",
    "\n",
    "x = nthprime(10001)\n",
    "    \n",
    "t2 = time.time() # toc\n",
    "print ''\n",
    "print 'result:', x\n",
    "print 'seconds:', t2-t1"
   ]
  },
  {
   "cell_type": "markdown",
   "metadata": {},
   "source": [
    "Surprisingly it is still pretty quick for the naive primality test. "
   ]
  }
 ],
 "metadata": {
  "kernelspec": {
   "display_name": "Python 2",
   "language": "python",
   "name": "python2"
  },
  "language_info": {
   "codemirror_mode": {
    "name": "ipython",
    "version": 2
   },
   "file_extension": ".py",
   "mimetype": "text/x-python",
   "name": "python",
   "nbconvert_exporter": "python",
   "pygments_lexer": "ipython2",
   "version": "2.7.6"
  }
 },
 "nbformat": 4,
 "nbformat_minor": 2
}
