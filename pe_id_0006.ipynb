{
 "cells": [
  {
   "cell_type": "markdown",
   "metadata": {},
   "source": [
    "# Sum square difference\n",
    "\n",
    "## Problem 6\n",
    "\n",
    "The sum of the squares of the first ten natural numbers is,\n",
    "$1^2 + 2^2 + ... + 10^2 = 385$\n",
    "\n",
    "The square of the sum of the first ten natural numbers is,\n",
    "$(1 + 2 + ... + 10)^2 = 55^2 = 3025$\n",
    "\n",
    "Hence the difference between the sum of the squares of the first ten natural numbers and the square of the sum is 3025 − 385 = 2640.\n",
    "\n",
    "Find the difference between the sum of the squares of the first one hundred natural numbers and the square of the sum."
   ]
  },
  {
   "cell_type": "markdown",
   "metadata": {},
   "source": [
    "## Approach\n",
    "\n",
    "Seems pretty obvious and procedural, at least with numpy..."
   ]
  },
  {
   "cell_type": "code",
   "execution_count": 4,
   "metadata": {
    "collapsed": true
   },
   "outputs": [],
   "source": [
    "import time\n",
    "import numpy as np"
   ]
  },
  {
   "cell_type": "code",
   "execution_count": 8,
   "metadata": {
    "collapsed": false
   },
   "outputs": [],
   "source": [
    "def sumsq(n):\n",
    "    \"\"\"return sum of squares of numbers in array [1,2,...,n]\"\"\"\n",
    "    a = np.arange(1,n+1)\n",
    "    a = a**2\n",
    "    return np.sum(a)"
   ]
  },
  {
   "cell_type": "code",
   "execution_count": 14,
   "metadata": {
    "collapsed": true
   },
   "outputs": [],
   "source": [
    "def sqsum(n):\n",
    "    \"\"\"return square of sum of numbers in array [1,2,...,n]\"\"\"\n",
    "    a = np.arange(1,n+1)\n",
    "    s = np.sum(a)\n",
    "    return s**2"
   ]
  },
  {
   "cell_type": "code",
   "execution_count": 16,
   "metadata": {
    "collapsed": false
   },
   "outputs": [
    {
     "name": "stdout",
     "output_type": "stream",
     "text": [
      "\n",
      "result: 2640\n",
      "seconds: 0.000235080718994\n"
     ]
    }
   ],
   "source": [
    "t1 = time.time() # tic\n",
    "\n",
    "n = 10\n",
    "x = sqsum(n)-sumsq(n)\n",
    "\n",
    "t2 = time.time() # toc\n",
    "print ''\n",
    "print 'result:', x\n",
    "print 'seconds:', t2-t1"
   ]
  }
 ],
 "metadata": {
  "kernelspec": {
   "display_name": "Python 2",
   "language": "python",
   "name": "python2"
  },
  "language_info": {
   "codemirror_mode": {
    "name": "ipython",
    "version": 2
   },
   "file_extension": ".py",
   "mimetype": "text/x-python",
   "name": "python",
   "nbconvert_exporter": "python",
   "pygments_lexer": "ipython2",
   "version": "2.7.6"
  }
 },
 "nbformat": 4,
 "nbformat_minor": 2
}
