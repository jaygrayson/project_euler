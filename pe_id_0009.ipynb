{
 "cells": [
  {
   "cell_type": "markdown",
   "metadata": {},
   "source": [
    "# Special Pythagorean triplet\n",
    "\n",
    "## Problem 9\n",
    "\n",
    "A Pythagorean triplet is a set of three natural numbers, $a < b < c$, for which,\n",
    "\n",
    "$a^2 + b^2 = c^2$\n",
    "For example, $3^2 + 4^2 = 9 + 16 = 25 = 5^2$.\n",
    "\n",
    "There exists exactly one Pythagorean triplet for which $a + b + c = 1000$.\n",
    "Find the product $abc$."
   ]
  },
  {
   "cell_type": "markdown",
   "metadata": {},
   "source": [
    "## Approach\n",
    "\n",
    "1. a=1, try b=2,3,..., and find $c=\\sqrt{c^2}$.\n",
    "  1. If $a+b+c=1000$, found the answer.\n",
    "  1. If $a+b+c<1000$, try next b value.\n",
    "  1. If $a+b+c>1000$, go to next a value."
   ]
  },
  {
   "cell_type": "code",
   "execution_count": 1,
   "metadata": {
    "collapsed": true
   },
   "outputs": [],
   "source": [
    "import time\n",
    "import math"
   ]
  },
  {
   "cell_type": "code",
   "execution_count": 2,
   "metadata": {
    "collapsed": false
   },
   "outputs": [],
   "source": [
    "def givena(a, n):\n",
    "    \"\"\"given a, try to find the triplet summing to n. return b=0 if not found\"\"\"\n",
    "    for b in range(a+1,n):\n",
    "        c = math.sqrt(a**2+b**2)\n",
    "        if a+b+c == n:\n",
    "            break\n",
    "        elif a+b+c > n:\n",
    "            b = 0\n",
    "            break\n",
    "    return b"
   ]
  },
  {
   "cell_type": "code",
   "execution_count": 3,
   "metadata": {
    "collapsed": false
   },
   "outputs": [],
   "source": [
    "def loopa(n):\n",
    "    \"\"\"loop to find triplet summing to n\"\"\"\n",
    "    for a in range(1,n/3+1): # only need to go up to a=n/3 since a<b<c and a+b+c=n\n",
    "        b = givena(a,n)\n",
    "        if b != 0:\n",
    "            break\n",
    "    c = math.sqrt(a**2+b**2)\n",
    "    return [a,b,c]"
   ]
  },
  {
   "cell_type": "code",
   "execution_count": 4,
   "metadata": {
    "collapsed": false
   },
   "outputs": [
    {
     "name": "stdout",
     "output_type": "stream",
     "text": [
      "\n",
      "result: 31875000\n",
      "seconds: 0.0293459892273\n"
     ]
    }
   ],
   "source": [
    "t1 = time.time() # tic\n",
    "\n",
    "abc = loopa(1000)\n",
    "x = int(abc[0]*abc[1]*abc[2])\n",
    "    \n",
    "t2 = time.time() # toc\n",
    "print ''\n",
    "print 'result:', x\n",
    "print 'seconds:', t2-t1"
   ]
  }
 ],
 "metadata": {
  "kernelspec": {
   "display_name": "Python 2",
   "language": "python",
   "name": "python2"
  },
  "language_info": {
   "codemirror_mode": {
    "name": "ipython",
    "version": 2
   },
   "file_extension": ".py",
   "mimetype": "text/x-python",
   "name": "python",
   "nbconvert_exporter": "python",
   "pygments_lexer": "ipython2",
   "version": "2.7.6"
  }
 },
 "nbformat": 4,
 "nbformat_minor": 2
}
