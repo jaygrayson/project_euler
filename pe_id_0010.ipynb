{
 "cells": [
  {
   "cell_type": "markdown",
   "metadata": {},
   "source": [
    "# Summation of primes\n",
    "\n",
    "## Problem 10\n",
    "\n",
    "The sum of the primes below 10 is 2 + 3 + 5 + 7 = 17.\n",
    "\n",
    "Find the sum of all the primes below two million."
   ]
  },
  {
   "cell_type": "markdown",
   "metadata": {},
   "source": [
    "## Approach\n",
    "\n",
    "First just try brute force approach. Use basic primality tester on all x < 2e6 and sum results."
   ]
  },
  {
   "cell_type": "code",
   "execution_count": 1,
   "metadata": {
    "collapsed": true
   },
   "outputs": [],
   "source": [
    "import time\n",
    "import math\n",
    "import numpy as np"
   ]
  },
  {
   "cell_type": "code",
   "execution_count": 2,
   "metadata": {
    "collapsed": true
   },
   "outputs": [],
   "source": [
    "def isprime(x):\n",
    "    \"\"\"return True if number is prime\"\"\"\n",
    "    x = int(x)\n",
    "    i = 2\n",
    "    ans = True\n",
    "    while i <= math.sqrt(x): # test divisibility by 2,3,...,sqrt(x)\n",
    "        if x % i == 0:\n",
    "            ans = False\n",
    "            break\n",
    "        i = i+1\n",
    "    return ans"
   ]
  },
  {
   "cell_type": "code",
   "execution_count": 3,
   "metadata": {
    "collapsed": false
   },
   "outputs": [],
   "source": [
    "def primes(n):\n",
    "    \"\"\"return list of primes below n\"\"\"\n",
    "    ps = []\n",
    "    for i in range(2,n):\n",
    "        if isprime(i):\n",
    "            ps.append(i)\n",
    "    return ps"
   ]
  },
  {
   "cell_type": "code",
   "execution_count": 4,
   "metadata": {
    "collapsed": false
   },
   "outputs": [
    {
     "name": "stdout",
     "output_type": "stream",
     "text": [
      "\n",
      "result: 142913828922\n",
      "seconds: 30.2820339203\n"
     ]
    }
   ],
   "source": [
    "t1 = time.time() # tic\n",
    "\n",
    "ps = np.array(primes(int(2e6)))\n",
    "s = np.sum(ps)\n",
    "\n",
    "t2 = time.time() # toc\n",
    "print ''\n",
    "print 'result:', s\n",
    "print 'seconds:', t2-t1"
   ]
  },
  {
   "cell_type": "markdown",
   "metadata": {},
   "source": [
    "## Speed up\n",
    "\n",
    "Wasting a lot of time testing numbers we know aren't prime. Starting with 2,3,..., we know that any multiple of these numbers is no longer a candidate as a prime. So instead keep track of multiples as we go, and avoid testing those numbers. "
   ]
  },
  {
   "cell_type": "code",
   "execution_count": 5,
   "metadata": {
    "collapsed": true
   },
   "outputs": [],
   "source": [
    "def maxmultarray(x,y):\n",
    "    \"\"\"find maximum multiple n satisfying x*n<y, return array from x*1 to x*n\"\"\"\n",
    "    n = math.floor((y-1)/x)\n",
    "    na = x*(np.arange(n)+1)\n",
    "    return na"
   ]
  },
  {
   "cell_type": "code",
   "execution_count": 6,
   "metadata": {
    "collapsed": false
   },
   "outputs": [],
   "source": [
    "def primes2(n):\n",
    "    \"\"\"return list of primes below n. skip testing multiples of numbers\"\"\"\n",
    "    ps = []\n",
    "    test = np.arange(2,n) # list of all numbers to test\n",
    "    while len(test)>0:\n",
    "        i = test[0]\n",
    "        if isprime(i):\n",
    "            ps.append(i)\n",
    "        mults = maxmultarray(i,n) # multiples of this trial number up to n\n",
    "        test = np.setdiff1d(test,mults,assume_unique=True) # find remaining numbers to test\n",
    "    return ps"
   ]
  },
  {
   "cell_type": "code",
   "execution_count": 7,
   "metadata": {
    "collapsed": false,
    "scrolled": true
   },
   "outputs": [
    {
     "name": "stdout",
     "output_type": "stream",
     "text": [
      "\n",
      "result: 454396537\n",
      "seconds: 1.29749107361\n"
     ]
    }
   ],
   "source": [
    "t1 = time.time() # tic\n",
    "\n",
    "ps = np.array(primes2(int(1e5)))\n",
    "s = np.sum(ps)\n",
    "\n",
    "t2 = time.time() # toc\n",
    "print ''\n",
    "print 'result:', s\n",
    "print 'seconds:', t2-t1"
   ]
  },
  {
   "cell_type": "markdown",
   "metadata": {
    "collapsed": false
   },
   "source": [
    "Too slow. The the array size is just too big at 2e6... Try to vectorize the prime tester instead."
   ]
  },
  {
   "cell_type": "code",
   "execution_count": 8,
   "metadata": {
    "collapsed": false
   },
   "outputs": [],
   "source": [
    "def isprimevec(n):\n",
    "    \"\"\"return list of primes below n\"\"\"\n",
    "    ps = []\n",
    "    v = np.arange(2,n)\n",
    "    ps.append(v[0]) # start testing with 2\n",
    "    i = 0\n",
    "    while len(v)>0:\n",
    "        t = ps[i]\n",
    "        vmod = np.mod(v,t)>0 # True for non equally divisible\n",
    "        v = v[vmod]\n",
    "        ps.extend(v[v<t**2]) # done testing everything up to n^2\n",
    "        v = v[v>=t**2]\n",
    "        i = i+1\n",
    "    return ps"
   ]
  },
  {
   "cell_type": "code",
   "execution_count": 9,
   "metadata": {
    "collapsed": false
   },
   "outputs": [
    {
     "name": "stdout",
     "output_type": "stream",
     "text": [
      "\n",
      "result: 142913828922\n",
      "seconds: 0.732959032059\n"
     ]
    }
   ],
   "source": [
    "t1 = time.time() # tic\n",
    "\n",
    "ps = isprimevec((int(2e6)))\n",
    "s = np.sum(ps)\n",
    "\n",
    "t2 = time.time() # toc\n",
    "print ''\n",
    "print 'result:', s\n",
    "print 'seconds:', t2-t1"
   ]
  },
  {
   "cell_type": "markdown",
   "metadata": {},
   "source": [
    "Just barely works fast enough! Only testing up to n^2 is crucial."
   ]
  }
 ],
 "metadata": {
  "kernelspec": {
   "display_name": "Python 2",
   "language": "python",
   "name": "python2"
  },
  "language_info": {
   "codemirror_mode": {
    "name": "ipython",
    "version": 2
   },
   "file_extension": ".py",
   "mimetype": "text/x-python",
   "name": "python",
   "nbconvert_exporter": "python",
   "pygments_lexer": "ipython2",
   "version": "2.7.6"
  }
 },
 "nbformat": 4,
 "nbformat_minor": 2
}
